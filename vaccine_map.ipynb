{
 "cells": [
  {
   "cell_type": "code",
   "execution_count": 1,
   "id": "612ab722-9722-46ee-89d9-2e18aaea27fe",
   "metadata": {},
   "outputs": [],
   "source": [
    "import pandas as pd\n",
    "import numpy as np\n",
    "from urllib.request import urlopen\n",
    "import json\n",
    "import plotly.express as px\n",
    "import plotly.graph_objects as go"
   ]
  },
  {
   "cell_type": "code",
   "execution_count": 2,
   "id": "a2bd11da-e00e-474c-8506-0f4635f5662c",
   "metadata": {},
   "outputs": [
    {
     "data": {
      "text/plain": [
       "['Tdap', 'Hepatitis A', 'Hepatitis B', 'MMR', 'Polio', 'Varicella']"
      ]
     },
     "execution_count": 2,
     "metadata": {},
     "output_type": "execute_result"
    }
   ],
   "source": [
    "vaccines = pd.read_excel('2023-2024_School_Vaccination_Coverage_Levels_Kindergarten.xlsx',\n",
    "                         sheet_name = 'Coverage by County')\n",
    "\n",
    "vaccines.rename(columns={'DTP/DTaP/DT/Td': 'Tdap'}, inplace = True)\n",
    "\n",
    "vaccine_columns = vaccines.columns.to_list()\n",
    "vaccine_columns.remove('County')\n",
    "vaccine_columns"
   ]
  },
  {
   "cell_type": "code",
   "execution_count": 3,
   "id": "7a2b4038-1199-4b80-aa46-c3971f76c05b",
   "metadata": {},
   "outputs": [],
   "source": [
    "for col in vaccine_columns:\n",
    "    vaccines[col] = pd.to_numeric(vaccines[col], errors = 'coerce')"
   ]
  },
  {
   "cell_type": "code",
   "execution_count": 4,
   "id": "fe4fb0a7-5bde-4511-9fc4-0170602f74ea",
   "metadata": {},
   "outputs": [],
   "source": [
    "# get geographic data for county borders\n",
    "with urlopen('https://raw.githubusercontent.com/plotly/datasets/master/geojson-counties-fips.json') as response:\n",
    "    counties = json.load(response)"
   ]
  },
  {
   "cell_type": "code",
   "execution_count": 5,
   "id": "eed1c5a5-f19b-4045-9dba-9801533a6835",
   "metadata": {},
   "outputs": [],
   "source": [
    "fips_mapping = pd.read_csv('state_and_county_fips_master.csv') \n",
    "  # from https://github.com/kjhealy/fips-codes/blob/master/state_and_county_fips_master.csvb"
   ]
  },
  {
   "cell_type": "code",
   "execution_count": 6,
   "id": "5effdda5-827e-4591-ae53-226d524c06ee",
   "metadata": {},
   "outputs": [],
   "source": [
    "fips_mapping = fips_mapping[fips_mapping['state']=='TX'].copy()\n",
    "fips_mapping['name'] = fips_mapping['name'].str.removesuffix(' County').str.lower()\n",
    "fips_mapping['fips'] = fips_mapping['fips'].astype(str)"
   ]
  },
  {
   "cell_type": "code",
   "execution_count": 7,
   "id": "5b99aa5f-1df8-4d8e-9dd9-1f8fd8c83008",
   "metadata": {},
   "outputs": [],
   "source": [
    "vaccines['county_lower'] = vaccines['County'].str.lower()"
   ]
  },
  {
   "cell_type": "code",
   "execution_count": 8,
   "id": "07426f3e-3f17-454a-b446-0aa08df9a1e8",
   "metadata": {},
   "outputs": [],
   "source": [
    "vaccines = vaccines.merge(fips_mapping, how = 'left', left_on = 'county_lower', right_on = 'name')"
   ]
  },
  {
   "cell_type": "code",
   "execution_count": 9,
   "id": "3964dfa1-9d3b-4f2a-b635-bb5808f90780",
   "metadata": {
    "scrolled": true
   },
   "outputs": [
    {
     "name": "stdout",
     "output_type": "stream",
     "text": [
      "0.8261612021857924\n",
      "0.8333333333333334\n",
      "0.8638440860215054\n",
      "0.8045454545454546\n",
      "0.8230874316939891\n",
      "0.7833333333333333\n"
     ]
    }
   ],
   "source": [
    "# used to think about lower bound for plotting with regards to the color gradient, decided on 80%\n",
    "for col in vaccine_columns:\n",
    "    print(vaccines[col].quantile(.025))"
   ]
  },
  {
   "cell_type": "code",
   "execution_count": 37,
   "id": "9ec35bbd-3a0f-4757-b387-ce9b2f0fc354",
   "metadata": {},
   "outputs": [],
   "source": [
    "for col in vaccine_columns:\n",
    "    fig = px.choropleth_map(vaccines, geojson=counties, locations='fips', color=col,\n",
    "                            color_continuous_scale=\"rdylgn\",\n",
    "                            range_color=(0.8, 1),\n",
    "                            map_style=\"carto-positron\",\n",
    "                            zoom=4.7, center={\"lat\": 31.5, \"lon\": -101},\n",
    "                            opacity=0.8,\n",
    "                            hover_name='County',\n",
    "                            hover_data={'fips': False,\n",
    "                                        col: ':.1%'})\n",
    "    fig.update_layout(margin={\"r\":0,\"t\":0,\"l\":0,\"b\":0},\n",
    "                      autosize=True)\n",
    "    \n",
    "    #fig.write_html(col + '_map.html') # easier for viewing on my laptop\n",
    "\n",
    "    # creates html that can be pasted into google sites\n",
    "    with open(col + '_map.html', 'w') as f: \n",
    "        f.write(fig.to_html(include_plotlyjs='cdn'))"
   ]
  }
 ],
 "metadata": {
  "kernelspec": {
   "display_name": "Python [conda env:base] *",
   "language": "python",
   "name": "conda-base-py"
  },
  "language_info": {
   "codemirror_mode": {
    "name": "ipython",
    "version": 3
   },
   "file_extension": ".py",
   "mimetype": "text/x-python",
   "name": "python",
   "nbconvert_exporter": "python",
   "pygments_lexer": "ipython3",
   "version": "3.12.7"
  }
 },
 "nbformat": 4,
 "nbformat_minor": 5
}
